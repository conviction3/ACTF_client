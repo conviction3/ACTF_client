{
 "cells": [
  {
   "cell_type": "code",
   "execution_count": 14,
   "outputs": [
    {
     "name": "stdout",
     "output_type": "stream",
     "text": [
      "b'test'\n",
      "4\n"
     ]
    }
   ],
   "source": [
    "en_str=\"test\".encode()\n",
    "print(en_str)\n",
    "print(len(en_str))"
   ],
   "metadata": {
    "collapsed": false,
    "pycharm": {
     "name": "#%%\n"
    }
   }
  },
  {
   "cell_type": "code",
   "execution_count": 15,
   "metadata": {
    "collapsed": true
   },
   "outputs": [
    {
     "name": "stdout",
     "output_type": "stream",
     "text": [
      "b'\\xe6\\xb5\\x8b\\xe8\\xaf\\x95'\n",
      "6\n"
     ]
    }
   ],
   "source": [
    "s=\"s\"\n",
    "\n",
    "ch_str=\"测试\".encode()\n",
    "print(ch_str)\n",
    "print(len(ch_str))"
   ]
  },
  {
   "cell_type": "code",
   "execution_count": 31,
   "outputs": [
    {
     "name": "stdout",
     "output_type": "stream",
     "text": [
      "b'\\x0c'\n",
      "1\n",
      "12\n"
     ]
    }
   ],
   "source": [
    "int1=12\n",
    "# bytes1=int1.to_bytes(length=20,byteorder='big',signed=False)\n",
    "bytes1=int1.to_bytes(length=1,byteorder='big',signed=False)\n",
    "\n",
    "print(bytes1)\n",
    "print(len(bytes1))\n",
    "\n",
    "int2=int.from_bytes(bytes1,byteorder='big',signed=False)\n",
    "print(int2)"
   ],
   "metadata": {
    "collapsed": false,
    "pycharm": {
     "name": "#%%\n"
    }
   }
  },
  {
   "cell_type": "code",
   "execution_count": 20,
   "outputs": [
    {
     "name": "stdout",
     "output_type": "stream",
     "text": [
      "int1B: 255\n",
      "int2B: 65535 \n",
      "2.5\n",
      "b'\\x00\\x10\\x00\\x00'\n",
      "int3B: 16777215 \n",
      "int4B: 4294967295 \n"
     ]
    }
   ],
   "source": [
    "# 1B=8bit,存储的范围是0~255, 即0~2^8-1，如果用1B来表示package的长度，那么最多可表示255Byte的package长度\n",
    "int1B=int.from_bytes(b'\\xff',byteorder='big',signed=False)\n",
    "print(f\"int1B: {int1B}\")\n",
    "\n",
    "# 2B=16bit,存储的范围是0~65535, 即0~2^16-1, 如果用2B来表示package的长度，那么最多可表示65525Byte的package长度\n",
    "int2B=int.from_bytes(b'\\xff\\xff',byteorder='big',signed=False)\n",
    "print(f\"int2B: {int2B} \")\n",
    "\n",
    "\n",
    "# 如果需要表示1MB=1024KB=1024*1024B=1048576B的package长度，至少需要3个byte来表示package的长度\n",
    "import math\n",
    "x=math.log(1048576,2)\n",
    "print(x/8)\n",
    "\n",
    "x=1048576\n",
    "print(x.to_bytes(length=4,byteorder='big',signed=False))\n",
    "\n",
    "\n",
    "int3B=int.from_bytes(b'\\xff\\xff\\xff',byteorder='big',signed=False)\n",
    "print(f\"int3B: {int3B} \")\n",
    "\n",
    "int4B=int.from_bytes(b'\\xff\\xff\\xff\\xff',byteorder='big',signed=False)\n",
    "print(f\"int4B: {int4B} \")\n",
    "\n",
    "# int255=int.from_bytes(b'\\xff',byteorder='big',signed=False)\n",
    "# print(int255)\n",
    "# print(1048576*8)\n",
    "# print(2**(1048576*8)-1)"
   ],
   "metadata": {
    "collapsed": false,
    "pycharm": {
     "name": "#%%\n"
    }
   }
  },
  {
   "cell_type": "code",
   "execution_count": 6,
   "outputs": [
    {
     "name": "stdout",
     "output_type": "stream",
     "text": [
      "b'\\x00\\xc1'\n"
     ]
    }
   ],
   "source": [
    "# 合并bytes\n",
    "b1=b'\\x00'\n",
    "b2=b'\\xc1'\n",
    "b3=b1+b2\n",
    "print(b3)\n"
   ],
   "metadata": {
    "collapsed": false,
    "pycharm": {
     "name": "#%%\n"
    }
   }
  },
  {
   "cell_type": "code",
   "execution_count": 19,
   "outputs": [
    {
     "name": "stdout",
     "output_type": "stream",
     "text": [
      "7\n"
     ]
    }
   ],
   "source": [
    "# 每个utf-8编码的中文字符占3B, 1KB可存储1024/3=341个中文字符\n",
    "ch_str=\"测试\".encode()\n",
    "print(len(ch_str))\n"
   ],
   "metadata": {
    "collapsed": false,
    "pycharm": {
     "name": "#%%\n"
    }
   }
  },
  {
   "cell_type": "code",
   "execution_count": 27,
   "outputs": [
    {
     "name": "stdout",
     "output_type": "stream",
     "text": [
      "b'M\\xa1\\x14@'\n",
      "(2.322345018386841,)\n"
     ]
    }
   ],
   "source": [
    "import struct\n",
    "f1=2.322345\n",
    "s=struct.pack(\"f\",f1)\n",
    "print(s)\n",
    "\n",
    "s2=struct.unpack('f',s)\n",
    "print(s2)\n",
    "# f1.tob\n",
    "# print(f1)"
   ],
   "metadata": {
    "collapsed": false,
    "pycharm": {
     "name": "#%%\n"
    }
   }
  },
  {
   "cell_type": "code",
   "execution_count": 37,
   "outputs": [
    {
     "name": "stdout",
     "output_type": "stream",
     "text": [
      "7\n"
     ]
    }
   ],
   "source": [
    "ss=\"你好1\"\n",
    "print(len(ss.encode()))\n"
   ],
   "metadata": {
    "collapsed": false,
    "pycharm": {
     "name": "#%%\n"
    }
   }
  }
 ],
 "metadata": {
  "kernelspec": {
   "display_name": "Python 3",
   "language": "python",
   "name": "python3"
  },
  "language_info": {
   "codemirror_mode": {
    "name": "ipython",
    "version": 2
   },
   "file_extension": ".py",
   "mimetype": "text/x-python",
   "name": "python",
   "nbconvert_exporter": "python",
   "pygments_lexer": "ipython2",
   "version": "2.7.6"
  }
 },
 "nbformat": 4,
 "nbformat_minor": 0
}