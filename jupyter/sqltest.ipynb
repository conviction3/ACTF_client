{
 "cells": [
  {
   "cell_type": "code",
   "execution_count": 1,
   "metadata": {
    "collapsed": true
   },
   "outputs": [
    {
     "name": "stdout",
     "output_type": "stream",
     "text": [
      "open database successfully\n",
      "Table created successfully\n"
     ]
    }
   ],
   "source": [
    "# Create a database and a table\n",
    "\n",
    "import sqlite3\n",
    "\n",
    "conn = sqlite3.connect('test_data.db')\n",
    "print(\"open database successfully\")\n",
    "c=conn.cursor()\n",
    "c.execute(\n",
    "        '''CREATE TABLE random_numbers\n",
    "            (   id      INTEGER PRIMARY KEY NOT NULL,\n",
    "                number  INT             NOT NULL\n",
    "            );\n",
    "        '''\n",
    "        )\n",
    "print(\"Table created successfully\")\n",
    "conn.commit()\n",
    "conn.close()"
   ]
  },
  {
   "cell_type": "code",
   "execution_count": 2,
   "outputs": [
    {
     "name": "stdout",
     "output_type": "stream",
     "text": [
      "open database successfully\n",
      "Insert successfully\n"
     ]
    }
   ],
   "source": [
    "# generate some random number\n",
    "import sqlite3\n",
    "\n",
    "conn = sqlite3.connect('test_data.db')\n",
    "print(\"open database successfully\")\n",
    "c=conn.cursor()\n",
    "c.execute(\n",
    "    '''\n",
    "        INSERT INTO random_numbers(number)\n",
    "        VALUES\n",
    "        (\n",
    "            123\n",
    "        )\n",
    "    '''\n",
    ")\n",
    "print(\"Insert successfully\")\n",
    "conn.commit()\n",
    "conn.close()"
   ],
   "metadata": {
    "collapsed": false,
    "pycharm": {
     "name": "#%%\n"
    }
   }
  },
  {
   "cell_type": "code",
   "execution_count": 3,
   "outputs": [
    {
     "name": "stdout",
     "output_type": "stream",
     "text": [
      "open database successfully\n",
      "id:1\n",
      "number:123\n",
      "Operation done successfully\n"
     ]
    }
   ],
   "source": [
    "import sqlite3\n",
    "\n",
    "conn = sqlite3.connect('test_data.db')\n",
    "print(\"open database successfully\")\n",
    "c=conn.cursor()\n",
    "\n",
    "cursor = c.execute(\"SELECT id, number from random_numbers\")\n",
    "for row in cursor:\n",
    "    print(f\"id:{row[0]}\")\n",
    "    print(f\"number:{row[1]}\")\n",
    "\n",
    "print(\"Operation done successfully\")\n",
    "conn.close()"
   ],
   "metadata": {
    "collapsed": false,
    "pycharm": {
     "name": "#%%\n"
    }
   }
  }
 ],
 "metadata": {
  "kernelspec": {
   "display_name": "Python 3",
   "language": "python",
   "name": "python3"
  },
  "language_info": {
   "codemirror_mode": {
    "name": "ipython",
    "version": 2
   },
   "file_extension": ".py",
   "mimetype": "text/x-python",
   "name": "python",
   "nbconvert_exporter": "python",
   "pygments_lexer": "ipython2",
   "version": "2.7.6"
  }
 },
 "nbformat": 4,
 "nbformat_minor": 0
}