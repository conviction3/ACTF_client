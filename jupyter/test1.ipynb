{
 "cells": [
  {
   "cell_type": "code",
   "execution_count": 1,
   "metadata": {
    "collapsed": true
   },
   "outputs": [
    {
     "name": "stdout",
     "output_type": "stream",
     "text": [
      "1 [2, 3, 4]\n",
      "2 [3, 4]\n",
      "3 [4]\n",
      "4 []\n"
     ]
    }
   ],
   "source": [
    "\n",
    "# delete while iterating\n",
    "list1 = [1, 2, 3, 4]\n",
    "for i in range(len(list1)):\n",
    "    item = list1[0]\n",
    "    del list1[0]\n",
    "    print(f\"{item} {list1}\")\n"
   ]
  },
  {
   "cell_type": "code",
   "execution_count": 3,
   "outputs": [
    {
     "name": "stdout",
     "output_type": "stream",
     "text": [
      "ss2\n"
     ]
    }
   ],
   "source": [
    "class Package:\n",
    "\n",
    "    def __str__(self):\n",
    "        return \"ss2\"\n",
    "\n",
    "p=Package()\n",
    "print(p)\n"
   ],
   "metadata": {
    "collapsed": false,
    "pycharm": {
     "name": "#%%\n"
    }
   }
  },
  {
   "cell_type": "code",
   "execution_count": 4,
   "outputs": [
    {
     "name": "stdout",
     "output_type": "stream",
     "text": [
      "[2, 3, 4]\n",
      "[2, 3]\n"
     ]
    }
   ],
   "source": [
    "list1 = [1, 2, 3, 4]\n",
    "del list1[0]\n",
    "print(list1)\n",
    "list1.remove(4)\n",
    "print(list1)"
   ],
   "metadata": {
    "collapsed": false,
    "pycharm": {
     "name": "#%%\n"
    }
   }
  },
  {
   "cell_type": "code",
   "execution_count": null,
   "outputs": [
    {
     "name": "stdout",
     "output_type": "stream",
     "text": [
      "ok\n",
      "ok\n",
      "ok\n",
      "ok\n",
      "ok\n",
      "ok\n",
      "ok\n",
      "ok\n",
      "ok\n",
      "ok\n",
      "ok\n",
      "ok\n",
      "ok\n",
      "ok\n",
      "ok\n",
      "ok\n",
      "ok\n",
      "ok\n",
      "ok\n",
      "ok\n",
      "ok\n",
      "ok\n",
      "ok\n",
      "ok\n",
      "ok\n",
      "ok\n",
      "ok\n",
      "ok\n",
      "ok\n",
      "ok\n",
      "ok\n",
      "ok\n",
      "ok\n",
      "ok\n",
      "ok\n",
      "ok\n",
      "ok\n",
      "ok\n",
      "ok\n",
      "ok\n"
     ]
    }
   ],
   "source": [
    "# 每1秒执行一次\n",
    "from threading import Timer\n",
    "def fun():\n",
    "    print(\"ok\")\n",
    "    t=Timer(1,fun)\n",
    "    t.start()\n",
    "    t.join()\n",
    "fun()\n"
   ],
   "metadata": {
    "collapsed": false,
    "pycharm": {
     "name": "#%%\n",
     "is_executing": true
    }
   }
  },
  {
   "cell_type": "code",
   "execution_count": 3,
   "outputs": [
    {
     "name": "stdout",
     "output_type": "stream",
     "text": [
      "1\n",
      "1\n"
     ]
    }
   ],
   "source": [
    "# 测试不定参数\n",
    "def func(**kwargs):\n",
    "    count=kwargs['count']\n",
    "    print(count)\n",
    "    count+=1\n",
    "\n",
    "count_=1\n",
    "func(count=count_)\n",
    "print(count_)\n"
   ],
   "metadata": {
    "collapsed": false,
    "pycharm": {
     "name": "#%%\n"
    }
   }
  },
  {
   "cell_type": "code",
   "execution_count": 20,
   "outputs": [
    {
     "name": "stdout",
     "output_type": "stream",
     "text": [
      "098f6bcd4621d373cade4e832627b4f6\n"
     ]
    }
   ],
   "source": [
    "import hashlib\n",
    "\n",
    "s=\"test\"\n",
    "bytes=hashlib.md5(s.encode()).digest()\n",
    "print(bytes.hex())"
   ],
   "metadata": {
    "collapsed": false,
    "pycharm": {
     "name": "#%%\n"
    }
   }
  },
  {
   "cell_type": "code",
   "execution_count": 154,
   "outputs": [
    {
     "ename": "SyntaxError",
     "evalue": "can't assign to function call (<ipython-input-154-910621709e13>, line 8)",
     "output_type": "error",
     "traceback": [
      "\u001B[1;36m  File \u001B[1;32m\"<ipython-input-154-910621709e13>\"\u001B[1;36m, line \u001B[1;32m8\u001B[0m\n\u001B[1;33m    s=[i for random.random() in range(100)]\u001B[0m\n\u001B[1;37m            ^\u001B[0m\n\u001B[1;31mSyntaxError\u001B[0m\u001B[1;31m:\u001B[0m can't assign to function call\n"
     ]
    }
   ],
   "source": [
    "import random\n",
    "ss=random.randint(0,9999999)\n",
    "print(ss)\n",
    "\n",
    "print(random.sample('zyxwvutsrqponmlkjihgfedcba',5))\n",
    "\n",
    "# 生成100组随机数据\n",
    "s=[i for random.random() in range(100)]\n",
    "# print(random.randrange(0, 101, 1))\n",
    "print(s)\n"
   ],
   "metadata": {
    "collapsed": false,
    "pycharm": {
     "name": "#%%\n"
    }
   }
  },
  {
   "cell_type": "code",
   "execution_count": 7,
   "outputs": [
    {
     "name": "stdout",
     "output_type": "stream",
     "text": [
      "b'\\x00\\x00\\x00\\x00\\x00\\x00\\x04\\xd2\\x00\\x00\\x00\\x00\\x00\\x00\\x16.'\n",
      "[1234, 5678]\n"
     ]
    }
   ],
   "source": [
    "from typing import List\n",
    "from functools import reduce\n",
    "\n",
    "def bytes2int(val: bytes) -> int:\n",
    "    \"\"\"\n",
    "        The size of int must be 8 bytes, signed.\n",
    "    \"\"\"\n",
    "    return int.from_bytes(val, byteorder='big', signed=True)\n",
    "\n",
    "\n",
    "def bytes_to_int_list(_bytes: bytes) -> List[int]:\n",
    "    if len(_bytes) % 8 != 0:\n",
    "        raise ValueError(\"length of bytes must be 8 times\")\n",
    "\n",
    "    temp_bytes_list=[_bytes[i:i+8] for i in range(0,len(_bytes),8)]\n",
    "    int_list=[]\n",
    "    for item in temp_bytes_list:\n",
    "        int_list.append(bytes2int(item))\n",
    "    return int_list\n",
    "\n",
    "\n",
    "def int2bytes(val: int) -> bytes:\n",
    "    return val.to_bytes(length=8, byteorder='big', signed=True)\n",
    "\n",
    "def int_list_to_bytes(int_list: List[int]) -> bytes:\n",
    "    bytes_list = [int2bytes(i) for i in int_list]\n",
    "    return reduce(lambda x, y: x + y, bytes_list)\n",
    "\n",
    "a=[1234,5678]\n",
    "b=int_list_to_bytes(a)\n",
    "print(b)\n",
    "c=bytes_to_int_list(b)\n",
    "print(c)\n"
   ],
   "metadata": {
    "collapsed": false,
    "pycharm": {
     "name": "#%%\n"
    }
   }
  },
  {
   "cell_type": "code",
   "execution_count": 3,
   "outputs": [
    {
     "name": "stdout",
     "output_type": "stream",
     "text": [
      "2\n",
      "b'\\x01\\x02'\n"
     ]
    }
   ],
   "source": [
    "b=b'\\x01\\x02\\x00\\x00'\n",
    "\n",
    "s=b.index(b'\\x00')\n",
    "print(s)\n",
    "bb=b[:s]\n",
    "print(bb)\n",
    "\n",
    "# for i in b:\n",
    "#     print(i)\n"
   ],
   "metadata": {
    "collapsed": false,
    "pycharm": {
     "name": "#%%\n"
    }
   }
  },
  {
   "cell_type": "code",
   "execution_count": 8,
   "outputs": [
    {
     "name": "stdout",
     "output_type": "stream",
     "text": [
      "4\n",
      "3\n",
      "2\n",
      "1\n"
     ]
    }
   ],
   "source": [
    "l=[1,2,3,4]\n",
    "for i in range(len(l)-1,-1,-1):\n",
    "    print(l[i])\n"
   ],
   "metadata": {
    "collapsed": false,
    "pycharm": {
     "name": "#%%\n"
    }
   }
  },
  {
   "cell_type": "code",
   "execution_count": 132,
   "outputs": [
    {
     "name": "stdout",
     "output_type": "stream",
     "text": [
      "4381554\n"
     ]
    }
   ],
   "source": [
    "import random\n",
    "print(random.randint(0,10000000))"
   ],
   "metadata": {
    "collapsed": false,
    "pycharm": {
     "name": "#%%\n"
    }
   }
  }
 ],
 "metadata": {
  "kernelspec": {
   "display_name": "Python 3",
   "language": "python",
   "name": "python3"
  },
  "language_info": {
   "codemirror_mode": {
    "name": "ipython",
    "version": 2
   },
   "file_extension": ".py",
   "mimetype": "text/x-python",
   "name": "python",
   "nbconvert_exporter": "python",
   "pygments_lexer": "ipython2",
   "version": "2.7.6"
  }
 },
 "nbformat": 4,
 "nbformat_minor": 0
}